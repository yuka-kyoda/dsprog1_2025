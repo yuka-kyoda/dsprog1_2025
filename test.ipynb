{
 "cells": [
  {
   "cell_type": "code",
   "execution_count": 1,
   "id": "7f4d1142",
   "metadata": {},
   "outputs": [],
   "source": [
    "# webスクレイピングに必要最低限のライブラリをインポート\n",
    "import requests\n",
    "from bs4 import BeautifulSoup"
   ]
  },
  {
   "cell_type": "code",
   "execution_count": 2,
   "id": "89902dd2",
   "metadata": {},
   "outputs": [],
   "source": [
    "# アクセスしたいWebサイトのURLを指定\n",
    "url = 'https://www.musashino-u.ac.jp/'\n",
    "\n",
    "# WebサイトにHTTPリクエストを送信\n",
    "# レスポンスを変数に格納しておく\n",
    "res = requests.get(url)"
   ]
  },
  {
   "cell_type": "code",
   "execution_count": 3,
   "id": "7959ddef",
   "metadata": {},
   "outputs": [
    {
     "name": "stdout",
     "output_type": "stream",
     "text": [
      "レスポンス:<Response [200]>\n",
      "レスポンスの型:<class 'requests.models.Response'>\n",
      "ステータスコード:200\n",
      "ステータスメッセージ:OK\n",
      "リクエスト:<PreparedRequest [GET]>\n",
      "リクエストの型:<class 'requests.models.PreparedRequest'>\n",
      "リクエストヘッダー:{'User-Agent': 'python-requests/2.32.5', 'Accept-Encoding': 'gzip, deflate', 'Accept': '*/*', 'Connection': 'keep-alive'}\n",
      "リクエストメソッド:GET\n",
      "リクエストURL:https://www.musashino-u.ac.jp/\n"
     ]
    }
   ],
   "source": [
    "print(f\"レスポンス:{res}\")  # レスポンンスオブジェクトを表示\n",
    "print(f\"レスポンスの型:{type(res)}\")  # レスポンスオブジェクトの型を表示\n",
    "print(f\"ステータスコード:{res.status_code}\")  # ステータスコードを表示\n",
    "print(f\"ステータスメッセージ:{res.reason}\")  # ステータスメッセージを表示\n",
    "\n",
    "print(f\"リクエスト:{res.request}\")  # リクエストオブジェクトを表示\n",
    "print(f\"リクエストの型:{type(res.request)}\")  # リクエストオブジェクトの型を表示\n",
    "print(f\"リクエストヘッダー:{res.request.headers}\")  # リクエストヘッダーを表示\n",
    "print(f\"リクエストメソッド:{res.request.method}\")  # リクエストメソッドを表示\n",
    "print(f\"リクエストURL:{res.request.url}\")  # リクエストURLを表示"
   ]
  },
  {
   "cell_type": "code",
   "execution_count": null,
   "id": "a4c551ac",
   "metadata": {},
   "outputs": [],
   "source": [
    "# レスポンス\n",
    "print(f\"レスポンスヘッダー:{res.headers}\")  # レスポンスヘッダーを表示\n",
    "print(f\"レスポンスボディ:{res.text}\")   # レスポンスボディを表示"
   ]
  },
  {
   "cell_type": "code",
   "execution_count": 4,
   "id": "81cb9e3c",
   "metadata": {},
   "outputs": [],
   "source": [
    "heders = {\n",
    "    'User-Agent': 'Mozilla/5.0 (Windows NT 10.0; Win64; x64) AppleWebKit/537.36 (KHTML, like Gecko) Chrome/58.0.3029.110 Safari/537.3'\n",
    "}"
   ]
  },
  {
   "cell_type": "code",
   "execution_count": null,
   "id": "c5442473",
   "metadata": {},
   "outputs": [],
   "source": [
    "# 別のURLにアクセスしてみる\n",
    "url = 'https://ja.wikipedia.org/wiki/%E6%AD%A6%E8%94%B5%E9%87%8E%E5%A4%A7%E5%AD%A6'\n",
    "res = requests.get(url, headers=heders)\n",
    "print(f\"ステータスコード:{res.status_code}\")  # ステータスコードを表示\n",
    "print(f\"レスポンスボディ:{res.text}\")   # レスポンスボディを表示"
   ]
  },
  {
   "cell_type": "code",
   "execution_count": null,
   "id": "e9d2aecd",
   "metadata": {},
   "outputs": [],
   "source": [
    "# url = \"https://www.musashino-u.ac.jp/search.html?query=データサイエンス\"\n",
    "url = \"https://www.musashino-u.ac.jp/search.html\"\n",
    "params = {\n",
    "    'query': 'データサイエンス'\n",
    "}\n",
    "res = requests.get(url, headers=heders, params=params)\n",
    "res.encoding = res.apparent_encoding  # レスポンスのエンコーディングを設定\n",
    "print(f\"ステータスコード：{res.status_code}\")  # ステータスコードを表示\n",
    "print(f\"レスポンスボディ：{res.text}\")  # レスポンスボディを表示"
   ]
  },
  {
   "cell_type": "code",
   "execution_count": 5,
   "id": "2534e660",
   "metadata": {},
   "outputs": [
    {
     "name": "stdout",
     "output_type": "stream",
     "text": [
      "ステータスコード：200\n"
     ]
    }
   ],
   "source": [
    "url = \"https://www.musashino-u.ac.jp/\"\n",
    "res = requests.get(url, headers=heders)\n",
    "res.encoding = res.apparent_encoding  # レスポンスのエンコーディングを設定\n",
    "print(f\"ステータスコード：{res.status_code}\")  # ステータスコードを表示"
   ]
  },
  {
   "cell_type": "code",
   "execution_count": 6,
   "id": "8d34a855",
   "metadata": {},
   "outputs": [
    {
     "name": "stdout",
     "output_type": "stream",
     "text": [
      "soupの型：<class 'bs4.BeautifulSoup'>\n"
     ]
    }
   ],
   "source": [
    "# HTMLのソースコードを解析\n",
    "soup = BeautifulSoup(res.text, 'html.parser')\n",
    "print(f\"soupの型：{type(soup)}\")  # soupオブジェクトの型を表示"
   ]
  },
  {
   "cell_type": "code",
   "execution_count": 7,
   "id": "636b8a11",
   "metadata": {},
   "outputs": [
    {
     "name": "stdout",
     "output_type": "stream",
     "text": [
      "<a>タグ：<a href=\"#main\">\n",
      "\t\t\t\t\tこのページの本文へ移動\n",
      "\t\t\t\t</a>\n",
      "<a>タグの型：<class 'bs4.element.Tag'>\n",
      "<p>タグ：<p>\n",
      "\t\t\t\t\t\t\t\t\t\t重要なお知らせ\n",
      "\t\t\t\t\t\t\t\t\t</p>\n",
      "<p>タグの型：<class 'bs4.element.Tag'>\n"
     ]
    }
   ],
   "source": [
    "# ソースコード全体から<a>タグを抽出\n",
    "soup_a = soup.a\n",
    "print(f\"<a>タグ：{soup_a}\")  # 最初に見つかった<a>タグを表示\n",
    "print(f\"<a>タグの型：{type(soup_a)}\")  # <a>タグオブジェクトの型を表示\n",
    "\n",
    "# ソースコード全体から<p>タグを抽出\n",
    "soup_p = soup.p\n",
    "print(f\"<p>タグ：{soup_p}\")  # 最初に見つかった<p>タグを表示\n",
    "print(f\"<p>タグの型：{type(soup_p)}\")  # <p>タグオブジェクトの型を表示"
   ]
  },
  {
   "cell_type": "code",
   "execution_count": 8,
   "id": "b2f52a2c",
   "metadata": {},
   "outputs": [
    {
     "name": "stdout",
     "output_type": "stream",
     "text": [
      "<div>タグの中の<div>タグ：<div class=\"c-skip\">\n",
      "<a href=\"#main\">\n",
      "\t\t\t\t\tこのページの本文へ移動\n",
      "\t\t\t\t</a>\n",
      "</div>\n",
      "<div>タグの中の<div>タグの型：<class 'bs4.element.Tag'>\n"
     ]
    }
   ],
   "source": [
    "# ソースコード全体から<div>タグを抽出\n",
    "soup_div = soup.div\n",
    "# print(f\"<div>タグ：{soup_div}\")  # 最初に見つかった<div>タグを表示\n",
    "# print(f\"<div>タグの型：{type(soup_div)}\")  # <div>タグオブジェクトの型を表示\n",
    "\n",
    "soup_div_div = soup_div.div\n",
    "print(f\"<div>タグの中の<div>タグ：{soup_div_div}\")  # 最初に見つかった<div>タグを表示\n",
    "print(f\"<div>タグの中の<div>タグの型：{type(soup_div_div)}\")  # <div>タグオブジェクトの型を表示"
   ]
  },
  {
   "cell_type": "code",
   "execution_count": 9,
   "id": "b3d4fa19",
   "metadata": {},
   "outputs": [
    {
     "name": "stdout",
     "output_type": "stream",
     "text": [
      "<div>タグの中の<div>タグ：<div class=\"c-skip\">\n",
      "<a href=\"#main\">\n",
      "\t\t\t\t\tこのページの本文へ移動\n",
      "\t\t\t\t</a>\n",
      "</div>\n",
      "<div>タグの中の<div>タグの型：<class 'bs4.element.Tag'>\n"
     ]
    }
   ],
   "source": [
    "# BeautifulSoupオブジェクトとTagオブジェクトは，\".\"でHTMLタグを連結することでより深いタグにアクセスすることができる．\n",
    "soup_div_div = soup.div.div\n",
    "print(f\"<div>タグの中の<div>タグ：{soup_div_div}\")  # 最初に見つかった<div>タグを表示\n",
    "print(f\"<div>タグの中の<div>タグの型：{type(soup_div_div)}\")  # <div>タグオブジェクトの型を表示"
   ]
  },
  {
   "cell_type": "code",
   "execution_count": 10,
   "id": "6ad6a498",
   "metadata": {},
   "outputs": [
    {
     "name": "stdout",
     "output_type": "stream",
     "text": [
      "<a>タグのテキスト：\n",
      "\t\t\t\t\tこのページの本文へ移動\n",
      "\t\t\t\t\n",
      "<div>タグの中の<div>タグのテキスト：None\n"
     ]
    }
   ],
   "source": [
    "# Tagオブジェクト.stringでタグ内のテキストを取得できる．\n",
    "print(f\"<a>タグのテキスト：{soup_a.string}\")  # <a>タグ内のテキストを表示\n",
    "\n",
    "# コンテンツがない場合はNoneが返される．\n",
    "print(f\"<div>タグの中の<div>タグのテキスト：{soup_div_div.string}\")  # <div>タグ内のテキストを表示"
   ]
  }
 ],
 "metadata": {
  "kernelspec": {
   "display_name": ".venv",
   "language": "python",
   "name": "python3"
  },
  "language_info": {
   "codemirror_mode": {
    "name": "ipython",
    "version": 3
   },
   "file_extension": ".py",
   "mimetype": "text/x-python",
   "name": "python",
   "nbconvert_exporter": "python",
   "pygments_lexer": "ipython3",
   "version": "3.12.12"
  }
 },
 "nbformat": 4,
 "nbformat_minor": 5
}
